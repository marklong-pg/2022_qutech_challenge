{
 "cells": [
  {
   "cell_type": "code",
   "execution_count": 3,
   "id": "f462ca53",
   "metadata": {},
   "outputs": [],
   "source": [
    "from qiskit import QuantumCircuit\n",
    "import numpy as np"
   ]
  },
  {
   "cell_type": "code",
   "execution_count": 7,
   "id": "f5907d85",
   "metadata": {},
   "outputs": [],
   "source": [
    "n = 100\n",
    "alice_msg = np.random.randint(2, size=n)\n",
    "alice_basis = np.random.randint(2, size=n)\n",
    "\n",
    "def encode_message(msg, basis):\n",
    "    enc_msg = []\n",
    "    n = len(msg)\n",
    "    for  i in range(n):\n",
    "        qc = QuantumCircuit(1,1)\n",
    "        if (basis[i] == 0):\n",
    "            if (msg[i] == 1):\n",
    "                qc.x(0)\n",
    "        else:\n",
    "            if msg[i] == 0:\n",
    "                qc.h(0)\n",
    "            else:\n",
    "                qc.x(0)\n",
    "                qc.h(0)\n",
    "        enc_mag.append(qc)\n",
    "    return enc_msg\n",
    "\n",
    "def decode_message(msg, basis):\n",
    "    dec_msg = []\n",
    "    n = len(msg)\n",
    "    for i in range(n):\n",
    "        \n",
    "            "
   ]
  },
  {
   "cell_type": "code",
   "execution_count": null,
   "id": "44e3a164",
   "metadata": {},
   "outputs": [],
   "source": []
  }
 ],
 "metadata": {
  "kernelspec": {
   "display_name": "Python 3 (ipykernel)",
   "language": "python",
   "name": "python3"
  },
  "language_info": {
   "codemirror_mode": {
    "name": "ipython",
    "version": 3
   },
   "file_extension": ".py",
   "mimetype": "text/x-python",
   "name": "python",
   "nbconvert_exporter": "python",
   "pygments_lexer": "ipython3",
   "version": "3.9.7"
  }
 },
 "nbformat": 4,
 "nbformat_minor": 5
}
