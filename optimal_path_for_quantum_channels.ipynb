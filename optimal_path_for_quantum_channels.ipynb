{
 "cells": [
  {
   "cell_type": "markdown",
   "id": "3d43080b",
   "metadata": {},
   "source": [
    "## Choosing the best path for creating Quantum channels\n",
    "\n",
    "Using VQE to get the optimal path to set up quantum channels between different people based on distances between them.The nodes represent the positions of different people who want to communicate through quantum channels "
   ]
  },
  {
   "cell_type": "code",
   "execution_count": 1,
   "id": "1aaee93f",
   "metadata": {},
   "outputs": [],
   "source": [
    "# useful additional packages\n",
    "import matplotlib.pyplot as plt\n",
    "import matplotlib.axes as axes\n",
    "%matplotlib inline\n",
    "import numpy as np\n",
    "import networkx as nx\n",
    "\n",
    "from qiskit import Aer\n",
    "from qiskit.tools.visualization import plot_histogram\n",
    "from qiskit.circuit.library import TwoLocal\n",
    "from qiskit_optimization.applications import Maxcut, Tsp\n",
    "from qiskit.algorithms import VQE, NumPyMinimumEigensolver\n",
    "from qiskit.algorithms.optimizers import SPSA,COBYLA\n",
    "from qiskit.utils import algorithm_globals\n",
    "from qiskit.utils import QuantumInstance\n",
    "from qiskit_optimization.algorithms import MinimumEigenOptimizer\n",
    "from qiskit_optimization.problems import QuadraticProgram"
   ]
  },
  {
   "cell_type": "code",
   "execution_count": 2,
   "id": "c1e41b95",
   "metadata": {},
   "outputs": [],
   "source": [
    "from quantuminspire.qiskit import QI\n",
    "from getpass import getpass\n"
   ]
  },
  {
   "cell_type": "code",
   "execution_count": 3,
   "id": "79a85410",
   "metadata": {},
   "outputs": [
    {
     "name": "stdout",
     "output_type": "stream",
     "text": [
      "distance\n",
      " [[0. 3. 5.]\n",
      " [3. 0. 4.]\n",
      " [5. 4. 0.]]\n"
     ]
    },
    {
     "data": {
      "image/png": "[encoded data removed]",
      "text/plain": [
       "<Figure size 432x288 with 1 Axes>"
      ]
     },
     "metadata": {},
     "output_type": "display_data"
    }
   ],
   "source": [
    "#node = 3\n",
    "n = 3\n",
    "#minumum and maximum distances\n",
    "low=0  \n",
    "high=6\n",
    "num_qubits = n ** 2\n",
    "tsp = Tsp.create_random_instance(n,low,high, seed=123)\n",
    "adj_matrix = nx.to_numpy_matrix(tsp.graph)\n",
    "print('distance\\n', adj_matrix)\n",
    "\n",
    "colors = ['r' for node in tsp.graph.nodes]\n",
    "pos = [tsp.graph.nodes[node]['pos']  for node in tsp.graph.nodes]\n",
    "def draw_graph(G, colors, pos):\n",
    "    default_axes = plt.axes(frameon=True)\n",
    "    nx.draw_networkx(G, node_color=colors, node_size=600, alpha=.8, ax=default_axes, pos=pos)\n",
    "    edge_labels = nx.get_edge_attributes(G, 'weight')\n",
    "    nx.draw_networkx_edge_labels(G, pos=pos, edge_labels=edge_labels)\n",
    "draw_graph(tsp.graph, colors, pos)"
   ]
  },
  {
   "cell_type": "code",
   "execution_count": 4,
   "id": "309f5176",
   "metadata": {},
   "outputs": [
    {
     "name": "stdout",
     "output_type": "stream",
     "text": [
      "\\ This file has been generated by DOcplex\n",
      "\\ ENCODING=ISO-8859-1\n",
      "\\Problem name: TSP\n",
      "\n",
      "Minimize\n",
      " obj: [ 6 x_0_0*x_1_1 + 6 x_0_0*x_1_2 + 10 x_0_0*x_2_1 + 10 x_0_0*x_2_2\n",
      "      + 6 x_0_1*x_1_0 + 6 x_0_1*x_1_2 + 10 x_0_1*x_2_0 + 10 x_0_1*x_2_2\n",
      "      + 6 x_0_2*x_1_0 + 6 x_0_2*x_1_1 + 10 x_0_2*x_2_0 + 10 x_0_2*x_2_1\n",
      "      + 8 x_1_0*x_2_1 + 8 x_1_0*x_2_2 + 8 x_1_1*x_2_0 + 8 x_1_1*x_2_2\n",
      "      + 8 x_1_2*x_2_0 + 8 x_1_2*x_2_1 ]/2\n",
      "Subject To\n",
      " c0: x_0_0 + x_0_1 + x_0_2 = 1\n",
      " c1: x_1_0 + x_1_1 + x_1_2 = 1\n",
      " c2: x_2_0 + x_2_1 + x_2_2 = 1\n",
      " c3: x_0_0 + x_1_0 + x_2_0 = 1\n",
      " c4: x_0_1 + x_1_1 + x_2_1 = 1\n",
      " c5: x_0_2 + x_1_2 + x_2_2 = 1\n",
      "\n",
      "Bounds\n",
      " 0 <= x_0_0 <= 1\n",
      " 0 <= x_0_1 <= 1\n",
      " 0 <= x_0_2 <= 1\n",
      " 0 <= x_1_0 <= 1\n",
      " 0 <= x_1_1 <= 1\n",
      " 0 <= x_1_2 <= 1\n",
      " 0 <= x_2_0 <= 1\n",
      " 0 <= x_2_1 <= 1\n",
      " 0 <= x_2_2 <= 1\n",
      "\n",
      "Binaries\n",
      " x_0_0 x_0_1 x_0_2 x_1_0 x_1_1 x_1_2 x_2_0 x_2_1 x_2_2\n",
      "End\n",
      "\n"
     ]
    }
   ],
   "source": [
    "#creating the quadratic program\n",
    "qp = tsp.to_quadratic_program()\n",
    "print(qp.export_as_lp_string())"
   ]
  },
  {
   "cell_type": "code",
   "execution_count": 5,
   "id": "66218364",
   "metadata": {},
   "outputs": [
    {
     "name": "stdout",
     "output_type": "stream",
     "text": [
      "Offset: 456.0\n",
      "Ising Hamiltonian:\n",
      "-77.5 * ZIIIIIIII\n",
      "- 77.5 * IZIIIIIII\n",
      "+ 36.5 * ZZIIIIIII\n",
      "- 77.5 * IIZIIIIII\n",
      "+ 36.5 * ZIZIIIIII\n",
      "+ 36.5 * IZZIIIIII\n",
      "- 76.5 * IIIZIIIII\n",
      "+ 36.5 * ZIIZIIIII\n",
      "+ 1.0 * IZIZIIIII\n",
      "+ 1.0 * IIZZIIIII\n",
      "- 76.5 * IIIIZIIII\n",
      "+ 1.0 * ZIIIZIIII\n",
      "+ 36.5 * IZIIZIIII\n",
      "+ 1.0 * IIZIZIIII\n",
      "+ 36.5 * IIIZZIIII\n",
      "- 76.5 * IIIIIZIII\n",
      "+ 1.0 * ZIIIIZIII\n",
      "+ 1.0 * IZIIIZIII\n",
      "+ 36.5 * IIZIIZIII\n",
      "+ 36.5 * IIIZIZIII\n",
      "+ 36.5 * IIIIZZIII\n",
      "- 77.0 * IIIIIIZII\n",
      "+ 36.5 * ZIIIIIZII\n",
      "+ 1.25 * IZIIIIZII\n",
      "+ 1.25 * IIZIIIZII\n",
      "+ 36.5 * IIIZIIZII\n",
      "+ 0.75 * IIIIZIZII\n",
      "+ 0.75 * IIIIIZZII\n",
      "- 77.0 * IIIIIIIZI\n",
      "+ 1.25 * ZIIIIIIZI\n",
      "+ 36.5 * IZIIIIIZI\n",
      "+ 1.25 * IIZIIIIZI\n",
      "+ 0.75 * IIIZIIIZI\n",
      "+ 36.5 * IIIIZIIZI\n",
      "+ 0.75 * IIIIIZIZI\n",
      "+ 36.5 * IIIIIIZZI\n",
      "- 77.0 * IIIIIIIIZ\n",
      "+ 1.25 * ZIIIIIIIZ\n",
      "+ 1.25 * IZIIIIIIZ\n",
      "+ 36.5 * IIZIIIIIZ\n",
      "+ 0.75 * IIIZIIIIZ\n",
      "+ 0.75 * IIIIZIIIZ\n",
      "+ 36.5 * IIIIIZIIZ\n",
      "+ 36.5 * IIIIIIZIZ\n",
      "+ 36.5 * IIIIIIIZZ\n"
     ]
    }
   ],
   "source": [
    "#converting quadratric to Quadratic Unconstrained Binary Optimization problem\n",
    "from qiskit_optimization.converters import QuadraticProgramToQubo\n",
    "\n",
    "qp2qubo = QuadraticProgramToQubo()\n",
    "qubo = qp2qubo.convert(qp)\n",
    "#making a hamiltonion\n",
    "qubitOp, offset = qubo.to_ising()\n",
    "print('Offset:', offset)\n",
    "print('Ising Hamiltonian:')\n",
    "print(str(qubitOp))"
   ]
  },
  {
   "cell_type": "code",
   "execution_count": 9,
   "id": "d65e7ed6",
   "metadata": {},
   "outputs": [],
   "source": [
    "def get_authentication():\n",
    "    \"\"\"Gets the authentication for connecting to the\n",
    "       Quantum Inspire API.\n",
    "    \"\"\"\n",
    "    print(\"Enter email:\")\n",
    "    email = input()\n",
    "    print(\"Enter password\")\n",
    "    password = getpass()\n",
    "    return email, password \n"
   ]
  },
  {
   "cell_type": "code",
   "execution_count": 10,
   "id": "6d04e24d",
   "metadata": {},
   "outputs": [
    {
     "name": "stdout",
     "output_type": "stream",
     "text": [
      "Enter email:\n",
      "freya.s1@ahduni.edu.in\n",
      "Enter password\n",
      "········\n"
     ]
    }
   ],
   "source": [
    "if __name__ == '__main__':\n",
    "    if 'authentication' not in vars().keys():\n",
    "        authentication = get_authentication()\n",
    "    QI.set_authentication_details(*authentication)\n",
    "    backend = QI.get_backend('QX single-node simulator')"
   ]
  },
  {
   "cell_type": "code",
   "execution_count": 6,
   "id": "a8de0e7f",
   "metadata": {},
   "outputs": [],
   "source": [
    "algorithm_globals.random_seed = 123\n",
    "seed = 10598\n",
    "quantum_instance = QuantumInstance(backend, seed_simulator=seed, seed_transpiler=seed)"
   ]
  },
  {
   "cell_type": "code",
   "execution_count": 7,
   "id": "2f9e8223",
   "metadata": {},
   "outputs": [],
   "source": [
    "def draw_tsp_solution(G, order, colors, pos):\n",
    "    G2 = nx.DiGraph()\n",
    "    G2.add_nodes_from(G)\n",
    "    n = len(order)\n",
    "    for i in range(n):\n",
    "        j = (i + 1) % n\n",
    "        G2.add_edge(order[i], order[j], weight=G[order[i]][order[j]][\"weight\"])\n",
    "    default_axes = plt.axes(frameon=True)\n",
    "    nx.draw_networkx(\n",
    "        G2, node_color=colors, edge_color=\"b\", node_size=600, alpha=0.8, ax=default_axes, pos=pos\n",
    "    )\n",
    "    edge_labels = nx.get_edge_attributes(G2, \"weight\")\n",
    "    nx.draw_networkx_edge_labels(G2, pos, font_color=\"b\", edge_labels=edge_labels)\n",
    "\n"
   ]
  },
  {
   "cell_type": "code",
   "execution_count": 8,
   "id": "d54515de",
   "metadata": {},
   "outputs": [
    {
     "name": "stdout",
     "output_type": "stream",
     "text": [
      "energy: -429.89355468749994\n",
      "time: 25.717959880828857\n",
      "feasible: True\n",
      "solution: [1, 2, 0]\n",
      "solution objective: 12.0\n"
     ]
    },
    {
     "data": {
      "image/png": "[encoded data removed]",
      "text/plain": [
       "<Figure size 432x288 with 1 Axes>"
      ]
     },
     "metadata": {},
     "output_type": "display_data"
    }
   ],
   "source": [
    "spsa = SPSA(maxiter=300)\n",
    "#setting the ansatz\n",
    "ry = TwoLocal(qubitOp.num_qubits, 'ry', 'cz', reps=5, entanglement='linear')\n",
    "vqe = VQE(ry, optimizer=spsa, quantum_instance=quantum_instance)\n",
    "\n",
    "result = vqe.compute_minimum_eigenvalue(qubitOp)\n",
    "\n",
    "print(\"energy:\", result.eigenvalue.real)\n",
    "print(\"time:\", result.optimizer_time)\n",
    "x = tsp.sample_most_likely(result.eigenstate)\n",
    "print(\"feasible:\", qubo.is_feasible(x))\n",
    "z = tsp.interpret(x)\n",
    "print(\"solution:\", z)\n",
    "print(\"solution objective:\", tsp.tsp_value(z, adj_matrix))\n",
    "draw_tsp_solution(tsp.graph, z, colors, pos)"
   ]
  }
 ],
 "metadata": {
  "kernelspec": {
   "display_name": "Python 3",
   "language": "python",
   "name": "python3"
  },
  "language_info": {
   "codemirror_mode": {
    "name": "ipython",
    "version": 3
   },
   "file_extension": ".py",
   "mimetype": "text/x-python",
   "name": "python",
   "nbconvert_exporter": "python",
   "pygments_lexer": "ipython3",
   "version": "3.8.8"
  }
 },
 "nbformat": 4,
 "nbformat_minor": 5
}
