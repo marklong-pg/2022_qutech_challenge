{
 "cells": [
  {
   "cell_type": "code",
   "execution_count": 1,
   "id": "1a0c8451",
   "metadata": {},
   "outputs": [],
   "source": [
    "import PySimpleGUI as sg\n",
    "from opencv import *\n",
    "import cv2"
   ]
  },
  {
   "cell_type": "code",
   "execution_count": 4,
   "id": "ebb2937d",
   "metadata": {},
   "outputs": [],
   "source": [
    "# Create the window and show it without the plot\n",
    "sg.theme(\"LightGreen\")\n",
    "\n",
    "    # Define the window layout\n",
    "video_layout = [\n",
    "    [sg.Text(\"QueueMeet Demo\", size=(20, 1), justification=\"center\")],\n",
    "    [sg.Image(filename=\"\", key=\"-IMAGE-\")]\n",
    "]\n",
    "\n",
    "lCol_layout = [\n",
    "    [sg.Text(\"Bob\", size=(10, 1), justification=\"left\")],\n",
    "    [sg.Image(filename=\"x.png\", key=\"-Bob-\", size=(209,209))],\n",
    "    [sg.Text(\"Cole\", size=(10, 1), justification=\"left\")],\n",
    "    [sg.Image(filename=\"x.png\", key=\"-Cole-\", size=(209,209))]\n",
    "]\n",
    "\n",
    "rCol_layout = [\n",
    "    [sg.Text(\"Dylan\", size=(10, 1), justification=\"left\")],\n",
    "    [sg.Image(filename=\"x.png\", key=\"-Dylan-\", size=(209,209))],\n",
    "    [sg.Text(\"Evan\", size=(10, 1), justification=\"left\")],\n",
    "    [sg.Image(filename=\"x.png\", key=\"-Evan-\", size=(209,209))]\n",
    "]\n",
    "\n",
    "layout = [[\n",
    "    sg.Column(video_layout),\n",
    "    sg.VSeperator(),\n",
    "    sg.Column(lCol_layout),\n",
    "    sg.Column(rCol_layout),\n",
    "]]\n",
    "\n",
    "\n",
    "window = sg.Window(\"QueueMeet\", layout, location=(800, 400))\n",
    "cap = cv2.VideoCapture(0)\n",
    "\n",
    "names = ['Bob', 'Cole', 'Evan', 'Dylan']\n",
    "while True:\n",
    "    event, values = window.read(timeout=20)\n",
    "    if event == \"Exit\" or event == sg.WIN_CLOSED:\n",
    "        break\n",
    "    \n",
    "    ret, frame = cap.read()\n",
    "    \n",
    "    qr = read_QRcodes(frame)[1]\n",
    "    if(qr != 0):\n",
    "        for j in names:\n",
    "            if qr == j.lower():\n",
    "                window[\"-\" + j + \"-\"].update(filename='xray.png')\n",
    "    else:\n",
    "        for j in names:\n",
    "            window[\"-\" + j + \"-\"].update(filename='x.png')\n",
    "\n",
    "\n",
    "    imgbytes = cv2.imencode(\".png\", frame)[1].tobytes()\n",
    "\n",
    "    window[\"-IMAGE-\"].update(data=imgbytes)\n",
    "    \n",
    "window.close()"
   ]
  },
  {
   "cell_type": "code",
   "execution_count": null,
   "id": "a4f3d297",
   "metadata": {},
   "outputs": [],
   "source": []
  }
 ],
 "metadata": {
  "kernelspec": {
   "display_name": "Python 3 (ipykernel)",
   "language": "python",
   "name": "python3"
  },
  "language_info": {
   "codemirror_mode": {
    "name": "ipython",
    "version": 3
   },
   "file_extension": ".py",
   "mimetype": "text/x-python",
   "name": "python",
   "nbconvert_exporter": "python",
   "pygments_lexer": "ipython3",
   "version": "3.9.7"
  }
 },
 "nbformat": 4,
 "nbformat_minor": 5
}
